{
  "nbformat": 4,
  "nbformat_minor": 0,
  "metadata": {
    "colab": {
      "name": "Medium.ipynb",
      "provenance": []
    },
    "kernelspec": {
      "name": "python3",
      "display_name": "Python 3"
    }
  },
  "cells": [
    {
      "cell_type": "code",
      "metadata": {
        "id": "1xUKVSlr9_-F",
        "outputId": "a48ac63e-b7f5-4323-f458-31b2ab68dd1d",
        "colab": {
          "base_uri": "https://localhost:8080/",
          "height": 51
        }
      },
      "source": [
        "# Excercise 4\n",
        "# https://www.practicepython.org/exercise/2014/02/26/04-divisors.html\n",
        "\n",
        "num = int(input('Please give an integer: '))\n",
        "\n",
        "\n",
        "# All possible divisors will lie in the range 2 -> num\n",
        "# We know that 1 will always be a divisor and that num will always be a divisor\n",
        "possNums = range(1, num)\n",
        "\n",
        "\n",
        "b = [ x for x in possNums if num % x == 0]\n",
        "\n",
        "print(b)"
      ],
      "execution_count": null,
      "outputs": [
        {
          "output_type": "stream",
          "text": [
            "Please give an integer: 10\n",
            "[1, 2, 5]\n"
          ],
          "name": "stdout"
        }
      ]
    },
    {
      "cell_type": "code",
      "metadata": {
        "id": "j4feFlwGAb0R",
        "outputId": "6f6ec6a9-c59d-4b8f-c329-fef11c5b1196",
        "colab": {
          "base_uri": "https://localhost:8080/",
          "height": 68
        }
      },
      "source": [
        "# Excercise 5\n",
        "# https://www.practicepython.org/exercise/2014/03/05/05-list-overlap.html\n",
        "\n",
        "import random\n",
        "#Generate 5 random numbers between 10 and 30\n",
        "randomA = random.sample(range(10, 100), 20)\n",
        "randomB = random.sample(range(10, 100), 20)\n",
        "\n",
        "\n",
        "compList = list(set(randomA).intersection(set(randomB)))\n",
        "print(randomA)\n",
        "print(randomB)\n",
        "print(compList)"
      ],
      "execution_count": null,
      "outputs": [
        {
          "output_type": "stream",
          "text": [
            "[44, 16, 92, 53, 70, 28, 99, 56, 77, 98, 49, 91, 30, 15, 87, 71, 31, 63, 25, 61]\n",
            "[63, 97, 92, 19, 67, 10, 54, 34, 13, 80, 87, 12, 36, 37, 64, 90, 49, 30, 75, 62]\n",
            "[49, 87, 92, 30, 63]\n"
          ],
          "name": "stdout"
        }
      ]
    },
    {
      "cell_type": "code",
      "metadata": {
        "id": "i-r2minJCHOX",
        "outputId": "bde0719a-1b1b-4865-d961-72368dea78fa",
        "colab": {
          "base_uri": "https://localhost:8080/",
          "height": 51
        }
      },
      "source": [
        "# Exercise 6\n",
        "# https://www.practicepython.org/exercise/2014/03/12/06-string-lists.html\n",
        "\n",
        "import math\n",
        "\n",
        "palindrome = True\n",
        "\n",
        "word = input('Input a word: ')\n",
        "\n",
        "wordLen = int(len(word))\n",
        "\n",
        "midPoint = math.floor(wordLen / 2)\n",
        "\n",
        "\n",
        "for x in range(midPoint):\n",
        "  if word[x-1] != word[-x]:\n",
        "    palindrome = False\n",
        "\n",
        "if palindrome == False:\n",
        "  print('Not a palindrome')\n",
        "else:\n",
        "  print('Woo! Palindrome')\n"
      ],
      "execution_count": null,
      "outputs": [
        {
          "output_type": "stream",
          "text": [
            "Input a word: step on no pets\n",
            "Woo! Palindrome\n"
          ],
          "name": "stdout"
        }
      ]
    },
    {
      "cell_type": "code",
      "metadata": {
        "id": "8gKnzA80G5x0",
        "outputId": "99cfad6e-be77-4296-e0b6-26c6ea03ed7d",
        "colab": {
          "base_uri": "https://localhost:8080/",
          "height": 51
        }
      },
      "source": [
        "# Excercise 13\n",
        "# https://www.practicepython.org/exercise/2014/04/30/13-fibonacci.html\n",
        "\n",
        "def fibbonaci(num):\n",
        "    \n",
        "    i = 1\n",
        "    if num == 0:\n",
        "        fib = []\n",
        "    elif num == 1:\n",
        "        fib = [1]\n",
        "    elif num == 2:\n",
        "        fib = [1,1]\n",
        "    elif num > 2:\n",
        "        fib = [1,1]\n",
        "        while i < (num - 1):\n",
        "            fib.append(fib[i] + fib[i-1])\n",
        "            i += 1\n",
        "\n",
        "    return fib\n",
        "        \n",
        "num = int(input(\"How many fibonacci numbers would you like to generate? \"))\n",
        "\n",
        "fibList = fibbonaci(num)\n",
        "\n",
        "print(fibList)\n"
      ],
      "execution_count": null,
      "outputs": [
        {
          "output_type": "stream",
          "text": [
            "How many fibonacci numbers would you like to generate? 20\n",
            "[1, 1, 2, 3, 5, 8, 13, 21, 34, 55, 89, 144, 233, 377, 610, 987, 1597, 2584, 4181, 6765]\n"
          ],
          "name": "stdout"
        }
      ]
    },
    {
      "cell_type": "code",
      "metadata": {
        "id": "c5t3I_6dHu1c",
        "outputId": "4567d9e5-1bc4-4472-b938-65958c4de067",
        "colab": {
          "base_uri": "https://localhost:8080/",
          "height": 34
        }
      },
      "source": [
        "# Excercise 14\n",
        "# https://www.practicepython.org/exercise/2014/05/15/14-list-remove-duplicates.html\n",
        "\n",
        "a = [1, 1, 2, 3, 5, 8, 13, 21, 34, 55, 89]\n",
        "b = list(dict.fromkeys(a))\n",
        "print(b)"
      ],
      "execution_count": null,
      "outputs": [
        {
          "output_type": "stream",
          "text": [
            "[1, 2, 3, 5, 8, 13, 21, 34, 55, 89]\n"
          ],
          "name": "stdout"
        }
      ]
    }
  ]
}