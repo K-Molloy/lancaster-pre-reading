{
  "nbformat": 4,
  "nbformat_minor": 0,
  "metadata": {
    "colab": {
      "name": "Easy.ipynb",
      "provenance": [],
      "collapsed_sections": []
    },
    "kernelspec": {
      "name": "python3",
      "display_name": "Python 3"
    }
  },
  "cells": [
    {
      "cell_type": "code",
      "metadata": {
        "id": "F96YWkG1uZO7",
        "outputId": "c20f5add-3d1d-4d56-9f18-d643cd36ef18",
        "colab": {
          "base_uri": "https://localhost:8080/",
          "height": 119
        }
      },
      "source": [
        "# Exercise 1\n",
        "# https://www.practicepython.org/exercise/2014/01/29/01-character-input.html\n",
        "\n",
        "# Ask user for inputs\n",
        "# Name / Age / Random Integer\n",
        "name = input('What is your name? ')\n",
        "age = input('What is your age? ')\n",
        "optionalNumber = input('Give a random integer: ')\n",
        "\n",
        "\n",
        "# Calculate years until 100\n",
        "# Convert age to type int\n",
        "yearsTill100 = 100 - int(age)\n",
        "\n",
        "# Loop over range of Random Integer\n",
        "# Convert num to type int\n",
        "for i in range(int(optionalNumber)):\n",
        "  print('You will turn 100 in {0} years'.format(yearsTill100))\n"
      ],
      "execution_count": null,
      "outputs": [
        {
          "output_type": "stream",
          "text": [
            "What is your name? Kieran\n",
            "What is your age? 21\n",
            "Give a random number: 3\n",
            "You will turn 100 in 79 years\n",
            "You will turn 100 in 79 years\n",
            "You will turn 100 in 79 years\n"
          ],
          "name": "stdout"
        }
      ]
    },
    {
      "cell_type": "code",
      "metadata": {
        "id": "2fO_JaSBxNcx",
        "outputId": "3f5a594d-afb0-43aa-d2e2-580b9d8fe69a",
        "colab": {
          "base_uri": "https://localhost:8080/",
          "height": 68
        }
      },
      "source": [
        "# Excercise 2\n",
        "# https://www.practicepython.org/exercise/2014/02/05/02-odd-or-even.html\n",
        "\n",
        "num = int(input('Give a random integer: '))\n",
        "check = int(input('Give another random integer: '))\n",
        "\n",
        "\n",
        "if num % check == 0 : \n",
        "  print('Evenly Divides! {0} times!'.format(num/check))\n",
        "else:\n",
        "  print('Does not evenly divide ({0}/{1} = {2})'.format(num, check, num/check))\n"
      ],
      "execution_count": null,
      "outputs": [
        {
          "output_type": "stream",
          "text": [
            "Give a random integer: 12314\n",
            "Give another random integer: 32\n",
            "Does not evenly divide (12314/32 = 384.8125)\n"
          ],
          "name": "stdout"
        }
      ]
    },
    {
      "cell_type": "code",
      "metadata": {
        "id": "XWlBk-bvzSIl",
        "outputId": "054ec014-c6e3-4cca-c47e-6267cd03d55a",
        "colab": {
          "base_uri": "https://localhost:8080/",
          "height": 34
        }
      },
      "source": [
        "# Excercise 12\n",
        "# https://www.practicepython.org/exercise/2014/04/25/12-list-ends.html\n",
        "\n",
        "\n",
        "def getFirstandLast(someList):\n",
        "  # Give a List, someList, returns the first and last element of the list as a tuple\n",
        "  firstElement = someList[0]\n",
        "  lastElement = someList[-1]\n",
        "\n",
        "  return [firstElement, lastElement]\n",
        "\n",
        "# Define a List\n",
        "a = [5, 10, 15, 20, 25]\n",
        "\n",
        "b = getFirstandLast(a)\n",
        "\n",
        "# Print tuple \n",
        "print(b)\n",
        "\n"
      ],
      "execution_count": null,
      "outputs": [
        {
          "output_type": "stream",
          "text": [
            "[5, 25]\n"
          ],
          "name": "stdout"
        }
      ]
    },
    {
      "cell_type": "code",
      "metadata": {
        "id": "5BVmBv1t0mUe",
        "outputId": "d0a575ad-575c-42d1-cda5-2fcd9e92c911",
        "colab": {
          "base_uri": "https://localhost:8080/",
          "height": 34
        }
      },
      "source": [
        "# Excercise 20\n",
        "# https://www.practicepython.org/exercise/2014/11/11/20-element-search.html\n",
        "\n",
        "\n",
        "# Returns index of x in arr if present, else -1 \n",
        "def recursiveBinarySearch(arr, low, high, x): \n",
        "  \n",
        "    # Check base case \n",
        "    if high >= low: \n",
        "  \n",
        "        mid = (high + low) // 2\n",
        "  \n",
        "        # If element is present at the middle itself \n",
        "        if arr[mid] == x: \n",
        "            return mid \n",
        "  \n",
        "        # If element is smaller than mid, then it can only \n",
        "        # be present in left subarray \n",
        "        elif arr[mid] > x: \n",
        "            return recursiveBinarySearch(arr, low, mid - 1, x) \n",
        "  \n",
        "        # Else the element can only be present in right subarray \n",
        "        else: \n",
        "            return recursiveBinarySearch(arr, mid + 1, high, x) \n",
        "  \n",
        "    else: \n",
        "        # Element is not present in the array \n",
        "        return -1\n",
        "\n",
        "\n",
        "# Define a List\n",
        "a = [5, 10, 15, 20, 25]\n",
        "\n",
        "# Value to be found\n",
        "searchNum = 15\n",
        "\n",
        "# Function call \n",
        "result = recursiveBinarySearch(a, 0, len(arr)-1, searchNum) \n",
        "  \n",
        "if result != -1: \n",
        "    print('Element Found in position {}'.format(str(result))) \n",
        "else: \n",
        "    print('Search Value not found')\n",
        "\n",
        "\n",
        "\n",
        "\n"
      ],
      "execution_count": null,
      "outputs": [
        {
          "output_type": "stream",
          "text": [
            "Element Found in position 2\n"
          ],
          "name": "stdout"
        }
      ]
    },
    {
      "cell_type": "code",
      "metadata": {
        "id": "X4dg28tY4p2C",
        "outputId": "8d3e49c9-79ee-48f8-f344-f59f086fa2a2",
        "colab": {
          "base_uri": "https://localhost:8080/",
          "height": 34
        }
      },
      "source": [
        "# Excercise 28\n",
        "# https://www.practicepython.org/exercise/2016/03/27/28-max-of-three.html\n",
        "\n",
        "def maxOf3(a):\n",
        "  if a[0] > a[1]:\n",
        "    b[0] = a[0]\n",
        "  else:\n",
        "    b[0] = a[1]\n",
        "\n",
        "  if a[1] > a[2]:\n",
        "    b[1] = a[1]\n",
        "  else:\n",
        "    b[1] = a[2]\n",
        "\n",
        "  if b[0] > b[1]:\n",
        "    return b[0]\n",
        "  else:\n",
        "    return b[1]  \n",
        "\n",
        "\n",
        "# Define a list of 3\n",
        "a = [50, 30, 40]\n",
        "\n",
        "aMax = maxOf3(a)\n",
        "\n",
        "print('The max is {}'.format(str(aMax)))"
      ],
      "execution_count": null,
      "outputs": [
        {
          "output_type": "stream",
          "text": [
            "The max is 50\n"
          ],
          "name": "stdout"
        }
      ]
    },
    {
      "cell_type": "code",
      "metadata": {
        "id": "5JNZEv8w6Wdc",
        "outputId": "3aceb4c4-a902-4ab5-c8b4-593e8f312a60",
        "colab": {
          "base_uri": "https://localhost:8080/",
          "height": 34
        }
      },
      "source": [
        "# Excercise 3\n",
        "# https://www.practicepython.org/exercise/2014/02/15/03-list-less-than-ten.html\n",
        "\n",
        "\n",
        "a = [1, 1, 2, 3, 5, 8, 13, 21, 34, 55, 89]\n",
        "cutoff = 5\n",
        "\n",
        "#for x in a:\n",
        "# if x <= cutoff:\n",
        "#    b.append(x)\n",
        "b = [ x for x in a if x < cutoff]\n",
        "\n",
        "print(b)\n",
        "\n"
      ],
      "execution_count": null,
      "outputs": [
        {
          "output_type": "stream",
          "text": [
            "[1, 1, 2, 3, 5]\n"
          ],
          "name": "stdout"
        }
      ]
    }
  ]
}